{
 "cells": [
  {
   "cell_type": "markdown",
   "metadata": {},
   "source": [
    "$\\newcommand{\\xv}{\\mathbf{x}}\n",
    "\\newcommand{\\Xv}{\\mathbf{X}}\n",
    "\\newcommand{\\yv}{\\mathbf{y}}\n",
    "\\newcommand{\\zv}{\\mathbf{z}}\n",
    "\\newcommand{\\av}{\\mathbf{a}}\n",
    "\\newcommand{\\Wv}{\\mathbf{W}}\n",
    "\\newcommand{\\wv}{\\mathbf{w}}\n",
    "\\newcommand{\\tv}{\\mathbf{t}}\n",
    "\\newcommand{\\Tv}{\\mathbf{T}}\n",
    "\\newcommand{\\muv}{\\boldsymbol{\\mu}}\n",
    "\\newcommand{\\sigmav}{\\boldsymbol{\\sigma}}\n",
    "\\newcommand{\\phiv}{\\boldsymbol{\\phi}}\n",
    "\\newcommand{\\Phiv}{\\boldsymbol{\\Phi}}\n",
    "\\newcommand{\\Sigmav}{\\boldsymbol{\\Sigma}}\n",
    "\\newcommand{\\Lambdav}{\\boldsymbol{\\Lambda}}\n",
    "\\newcommand{\\half}{\\frac{1}{2}}\n",
    "\\newcommand{\\argmax}[1]{\\underset{#1}{\\operatorname{argmax}}}\n",
    "\\newcommand{\\argmin}[1]{\\underset{#1}{\\operatorname{argmin}}}$"
   ]
  },
  {
   "cell_type": "markdown",
   "metadata": {},
   "source": [
    "# Part 5a: Control a Marble with Reinforcement Learning"
   ]
  },
  {
   "cell_type": "markdown",
   "metadata": {},
   "source": [
    "Fawad Ahmad"
   ]
  },
  {
   "cell_type": "markdown",
   "metadata": {},
   "source": [
    "## Overview"
   ]
  },
  {
   "cell_type": "markdown",
   "metadata": {},
   "source": [
    "In this there is second marble which is moving independently and they have to learn not to bump into eachother. There is no goal this time so the marbles are free to do what so ever they want. This program is only for the one dimension. Following are the generalizations i have made.\n",
    "* When marbles come in certain range of each other(which is considered collision), they get negative reinforcement so that they learn that they don't have to do that action again."
   ]
  },
  {
   "cell_type": "markdown",
   "metadata": {},
   "source": [
    "## Functions"
   ]
  },
  {
   "cell_type": "markdown",
   "metadata": {},
   "source": [
    "* $initialState$ takes the velocity and position of marbles randomly for the first time.\n",
    "* $nextState$ It updates position and velocity of the marble. \n",
    "* $reinforcement$ is to look for the positions of two marbles and if they are going to hit each other then give it negative reinforcement.\n",
    "* $policy$ is to get new action randomly or by looking into the qnet for a good action.\n",
    "* $makeSamples$ is to get all the samples considering one starting point so that when we give it to the system, it learns better.\n",
    "* $plotStatus$ is to show the position and velocity of marbles."
   ]
  },
  {
   "cell_type": "code",
   "execution_count": 24,
   "metadata": {
    "collapsed": true
   },
   "outputs": [],
   "source": [
    "import neuralnetworksbylayer as nn\n",
    "import numpy as np\n",
    "import matplotlib.pyplot as plt\n",
    "from IPython.display import display, clear_output\n",
    "from mpl_toolkits.mplot3d import Axes3D\n",
    "from matplotlib import cm\n",
    "import copy\n",
    "\n",
    "%matplotlib inline"
   ]
  },
  {
   "cell_type": "code",
   "execution_count": 60,
   "metadata": {
    "collapsed": false
   },
   "outputs": [],
   "source": [
    "validActions = np.array([ -1, 0, 1])\n",
    "\n",
    "def initialState():\n",
    "    return np.array([10*np.random.random_sample(), 3*(0.5-np.random.random_sample())])\n",
    "\n",
    "def nextState(s,a):\n",
    "    s = copy.copy(s)   # s[0] is position, s[1] is velocity. a is -1, 0 or 1\n",
    "    deltaT = 0.1                           # Euler integration time step\n",
    "    s[0] += deltaT * s[1]                  # Update position\n",
    "    s[1] += deltaT * (2 * a - 0.2 * s[1])  # Update velocity. Includes friction\n",
    "    if s[0] < 0:        # Bound next position. If at limits, set velocity to 0.\n",
    "        s = np.array([0,0])\n",
    "    elif s[0] > 10:\n",
    "        s = np.array([10,0])\n",
    "    return s\n",
    "\n",
    "def reinforcement(s1,s2):  # s is new state\n",
    "    goal = 2\n",
    "    R = np.zeros(2)\n",
    "    if s1[0] > s2[0]-0.1 or s1[0] < s2[0]+0.1:\n",
    "        R[0] = -1\n",
    "        R[1] = -1\n",
    "    if abs(s1[0]-goal)<1:\n",
    "        R[0] = 0\n",
    "    else:\n",
    "        R[0] = -0.1\n",
    "    if abs(s2[0]-goal)<1:\n",
    "        R[1] = 0  \n",
    "    else:\n",
    "        R[1] = -0.1    \n",
    "    return R\n",
    "\n",
    "def policy(qnet, state, epsilon):\n",
    "    if np.random.rand(1) < epsilon:\n",
    "        actioni = np.random.randint(validActions.shape[0])\n",
    "    else:\n",
    "        inputs = np.hstack(( np.tile(state, (validActions.shape[0], 1)), validActions.reshape((-1,1))))\n",
    "        qs = qnet.use(inputs)\n",
    "        actioni = np.argmax(qs)\n",
    "    return validActions[actioni]"
   ]
  },
  {
   "cell_type": "markdown",
   "metadata": {},
   "source": [
    "Now we need a function to generate a bunch of samples that are interactions with the marble."
   ]
  },
  {
   "cell_type": "code",
   "execution_count": 61,
   "metadata": {
    "collapsed": true
   },
   "outputs": [],
   "source": [
    "def makeSamples(qnet1,qnet2, nStepsPerStart):\n",
    "    samples = []\n",
    "    \n",
    "    state1 = initialState()\n",
    "    state2 = initialState()\n",
    "    act1 = policy(qnet1, state1, epsilon)\n",
    "    act2 = policy(qnet2, state2, epsilon)\n",
    "    oldact1 = act1\n",
    "    oldact2 = act2\n",
    "    for iStep in range(nStepsPerStart):\n",
    "        newState1 = nextState(state1, act1)\n",
    "        newState2 = nextState(state2, act2)\n",
    "        r = reinforcement(newState1,newState2)\n",
    "        newAct1 = policy(qnet1, newState1, epsilon)\n",
    "        newAct2 = policy(qnet2, newState2, epsilon)\n",
    "        # SARSA\n",
    "        samples.append(state1.tolist() + [act1, r[0]] + newState1.tolist() + [newAct1]+ state2.tolist() + [act2, r[1]] + newState2.tolist() + [newAct2])\n",
    "        state1 = newState1\n",
    "        state2 = newState2\n",
    "        oldact1 = act1\n",
    "        oldact2 = act2\n",
    "        act1 = newAct1\n",
    "        act2 = newAct2\n",
    "    return np.array(samples)"
   ]
  },
  {
   "cell_type": "markdown",
   "metadata": {},
   "source": [
    "Now we can play.  Define constants we need."
   ]
  },
  {
   "cell_type": "code",
   "execution_count": 62,
   "metadata": {
    "collapsed": true
   },
   "outputs": [],
   "source": [
    "def plotStatus(qnet1, X1, R1, trial,epsilonTrace,rtrace1,qnet2, X2, R2,rtrace2):\n",
    "\n",
    "    plt.subplot(2,1,1)\n",
    "    plt.plot(X1[:,0],X1[:,1])\n",
    "    plt.plot(X1[0,0],X1[0,1],'o')\n",
    "    plt.xlabel(\"$x$\")\n",
    "    plt.ylabel(\"$\\dot{x}$\")\n",
    "    plt.fill_between([4,6],[-5,-5],[5,5],color=\"red\",alpha=0.3)\n",
    "    plt.xlim(-1,11)\n",
    "    plt.ylim(-5,5)\n",
    "    \n",
    "    plt.subplot(2,1,1)\n",
    "    plt.plot(X2[:,0],X2[:,1])\n",
    "    plt.plot(X2[0,0],X2[0,1],'o')\n",
    "    plt.xlabel(\"$x$\")\n",
    "    plt.ylabel(\"$\\dot{x}$\")\n",
    "    plt.fill_between([4,6],[-5,-5],[5,5],color=\"red\",alpha=0.3)\n",
    "    plt.xlim(-1,11)\n",
    "    plt.ylim(-5,5)"
   ]
  },
  {
   "cell_type": "code",
   "execution_count": 63,
   "metadata": {
    "collapsed": true
   },
   "outputs": [],
   "source": [
    "gamma = 0.999\n",
    "nTrials = 500\n",
    "nStepsPerTrial = 1000 \n",
    "nSCGIterations = 30\n",
    "finalEpsilon = 0.01\n",
    "epsilonDecay = np.exp(np.log(finalEpsilon)/(nTrials))  # to produce this final value"
   ]
  },
  {
   "cell_type": "code",
   "execution_count": 64,
   "metadata": {
    "collapsed": false
   },
   "outputs": [
    {
     "data": {
      "text/plain": [
       "0.9908319448927676"
      ]
     },
     "execution_count": 64,
     "metadata": {},
     "output_type": "execute_result"
    }
   ],
   "source": [
    "epsilonDecay"
   ]
  },
  {
   "cell_type": "code",
   "execution_count": 65,
   "metadata": {
    "collapsed": true
   },
   "outputs": [],
   "source": [
    "nh = [5,5]\n",
    "qnet1 = nn.NeuralNetwork([3] + nh + [1])  # [3, 5, 5, 1]\n",
    "qnet2 = nn.NeuralNetwork([3] + nh + [1])  # [3, 5, 5, 1]"
   ]
  },
  {
   "cell_type": "code",
   "execution_count": 67,
   "metadata": {
    "collapsed": false
   },
   "outputs": [
    {
     "data": {
      "image/png": "[encoded data removed]",
      "text/plain": [
       "<matplotlib.figure.Figure at 0x14de722e748>"
      ]
     },
     "metadata": {},
     "output_type": "display_data"
    }
   ],
   "source": [
    "fig = plt.figure(figsize=(15,15))\n",
    "\n",
    "epsilon = 1\n",
    "epsilonTrace = np.zeros(nTrials)\n",
    "rtrace1 = np.zeros(nTrials)\n",
    "rtrace2 = np.zeros(nTrials)\n",
    "\n",
    "for trial in range(nTrials):\n",
    "\n",
    "    # Collect nStepsPerRep samples of X, R, Qn, and Q, and update epsilon\n",
    "    samples = makeSamples(qnet1,qnet2, nStepsPerTrial)\n",
    "    samples1 = samples[:, :7]\n",
    "    samples2 = samples[:, 7:14]\n",
    "    ns = 2\n",
    "    na = 1\n",
    "    X1 = samples1[:, :ns+na]\n",
    "    R1 = samples1[:, ns+na:ns+na+1]\n",
    "    nextX1 = samples1[:, ns+na+1:]\n",
    "    nextQ1 = qnet1.use(nextX1)\n",
    "\n",
    "    qnet1.train(X1, R1 + gamma * nextQ1, nIterations = nSCGIterations)\n",
    "    \n",
    "    \n",
    "    \n",
    "    X2 = samples2[:, :ns+na]\n",
    "    R2 = samples2[:, ns+na:ns+na+1]\n",
    "    nextX2 = samples2[:, ns+na+1:]\n",
    "    nextQ2 = qnet2.use(nextX2)\n",
    "\n",
    "    qnet2.train(X2, R2 + gamma * nextQ2, nIterations = nSCGIterations)\n",
    "    \n",
    "    # Decay epsilon\n",
    "    epsilon *= epsilonDecay\n",
    "    # epsilon = max(0.01, epsilon)\n",
    "\n",
    "    # Rest is for plotting\n",
    "    epsilonTrace[trial] = epsilon\n",
    "    rtrace1[trial] = np.mean(R1)\n",
    "    rtrace2[trial] = np.mean(R2)\n",
    "\n",
    "    if trial % (nTrials//10) == 0 or trial == nTrials-1:\n",
    "        plt.clf()\n",
    "        plotStatus(qnet1, X1, R1, trial,epsilonTrace,rtrace1,qnet2, X2, R2,rtrace2)\n",
    "        #testIt(qnet,10,500)\n",
    "        clear_output(wait=True)\n",
    "        display(fig);\n",
    "        plt.pause(0.01)\n",
    "\n",
    "    # print('Trial',trial,'mean R',np.mean(R))\n",
    "clear_output(wait=True)"
   ]
  },
  {
   "cell_type": "markdown",
   "metadata": {},
   "source": [
    "## Analysis \n",
    "Following are the observations\n",
    "* During first few trainings, marbles collide and then they learn not to. So last graph shows that if one is on the same goal then other can't go there.\n",
    "* Graph shows that marbles have learned how not to collide. So they change their velocities to avoid collision.\n",
    "* Both marbles have different qnet but they learn well from their mistakes. \n",
    "* if both have to go to the same location, the other can't approach that as they have learned not to collide as shown in the picture."
   ]
  },
  {
   "cell_type": "code",
   "execution_count": null,
   "metadata": {
    "collapsed": true
   },
   "outputs": [],
   "source": []
  }
 ],
 "metadata": {
  "anaconda-cloud": {},
  "kernelspec": {
   "display_name": "Python [default]",
   "language": "python",
   "name": "python3"
  },
  "language_info": {
   "codemirror_mode": {
    "name": "ipython",
    "version": 3
   },
   "file_extension": ".py",
   "mimetype": "text/x-python",
   "name": "python",
   "nbconvert_exporter": "python",
   "pygments_lexer": "ipython3",
   "version": "3.5.2"
  }
 },
 "nbformat": 4,
 "nbformat_minor": 1
}
